{
 "cells": [
  {
   "cell_type": "code",
   "execution_count": 15,
   "metadata": {},
   "outputs": [],
   "source": [
    "from src.repo_map import utils"
   ]
  },
  {
   "cell_type": "code",
   "execution_count": 16,
   "metadata": {},
   "outputs": [
    {
     "data": {
      "text/plain": [
       "'# generated repo map\\n```\\n└── project\\n    ├── __pycache__\\n    │   └── cached_file.pyc\\n    ├── build\\n    │   └── output.txt\\n    ├── configs\\n    │   └── example_config.yaml\\n    ├── docs\\n    │   ├── tutorial\\n    │   │   └── tutorial.md\\n    │   └── README.md\\n    ├── src\\n    │   ├── data\\n    │   │   └── data_loader.py\\n    │   ├── utils\\n    │   │   ├── __init__.py\\n    │   │   └── helpers.py\\n    │   └── main.py\\n    ├── tests\\n    │   └── test_main.py\\n    ├── README.md\\n    └── some.toml\\n```'"
      ]
     },
     "execution_count": 16,
     "metadata": {},
     "output_type": "execute_result"
    }
   ],
   "source": [
    "utils.get_file_tree(\n",
    "    [\n",
    "        \"project/src/main.py\",\n",
    "        \"project/src/utils/helpers.py\",\n",
    "        \"project/src/utils/__init__.py\",\n",
    "        \"project/src/data/data_loader.py\",\n",
    "        \"project/tests/test_main.py\",\n",
    "        \"project/docs/README.md\",\n",
    "        \"project/docs/tutorial/tutorial.md\",\n",
    "        \"project/configs/example_config.yaml\",\n",
    "        \"project/__pycache__/cached_file.pyc\",\n",
    "        \"project/build/output.txt\",\n",
    "        \"project/README.md\",\n",
    "        \"project/some.toml\",\n",
    "    ],\n",
    "    [],\n",
    ")"
   ]
  },
  {
   "cell_type": "code",
   "execution_count": 5,
   "metadata": {},
   "outputs": [
    {
     "data": {
      "text/plain": [
       "'# mock data\\nthis is a readme for mock data'"
      ]
     },
     "execution_count": 5,
     "metadata": {},
     "output_type": "execute_result"
    }
   ],
   "source": [
    "\"\"\"# mock data\n",
    "this is a readme for mock data\"\"\""
   ]
  },
  {
   "cell_type": "code",
   "execution_count": 2,
   "metadata": {},
   "outputs": [],
   "source": [
    "from repo_map.utils import create_repo_map"
   ]
  },
  {
   "cell_type": "code",
   "execution_count": 4,
   "metadata": {},
   "outputs": [
    {
     "name": "stdout",
     "output_type": "stream",
     "text": [
      "Successfully updated tree at `/Users/edcuss/My Drive/Jupyter Notebooks/repo_map/mock_data/README.md`\n"
     ]
    },
    {
     "data": {
      "text/plain": [
       "True"
      ]
     },
     "execution_count": 4,
     "metadata": {},
     "output_type": "execute_result"
    }
   ],
   "source": [
    "directory = \"/Users/edcuss/My Drive/Jupyter Notebooks/repo_map/mock_data\"\n",
    "allowed_extensions = None # (\".py\", \".yaml\", \".ini\", \".md\", \".toml\", \".ipynb\")\n",
    "ignore_dirs = [\"src\"]\n",
    "readme_path = \"/Users/edcuss/My Drive/Jupyter Notebooks/repo_map/mock_data/README.md\"\n",
    "\n",
    "\n",
    "create_repo_map(directory, readme_path, allowed_extensions, ignore_dirs)"
   ]
  },
  {
   "cell_type": "code",
   "execution_count": 18,
   "metadata": {},
   "outputs": [
    {
     "name": "stdout",
     "output_type": "stream",
     "text": [
      "python -m repo_map \"/Users/edcuss/My Drive/Jupyter Notebooks/repo_map\" \"/Users/edcuss/My Drive/Jupyter Notebooks/repo_map/docs/README.md\" --allowed-extensions .py .yaml .toml \n"
     ]
    }
   ],
   "source": [
    "directory = \"/Users/edcuss/My Drive/Jupyter Notebooks/repo_map\"\n",
    "readme_path = \"/Users/edcuss/My Drive/Jupyter Notebooks/repo_map/docs/README.md\"\n",
    "allowed_extensions = None\n",
    "ignore_dirs = None\n",
    "\n",
    "\n",
    "print(\n",
    "    f\"\"\"python -m repo_map \"{directory}\" \"{readme_path}\" --allowed-extensions .py .yaml .toml \"\"\"\n",
    ")"
   ]
  },
  {
   "cell_type": "code",
   "execution_count": 6,
   "metadata": {},
   "outputs": [
    {
     "data": {
      "text/plain": [
       "'/Users/edcuss/My Drive/Jupyter Notebooks/repo_map/src/repo_map/__main__.py'"
      ]
     },
     "execution_count": 6,
     "metadata": {},
     "output_type": "execute_result"
    }
   ],
   "source": [
    "from pathlib import Path\n",
    "\n",
    "str(\n",
    "    Path(\"/Users/edcuss/My Drive/Jupyter Notebooks/repo_map/tests/conftest.py\")\n",
    "    .parents[1]\n",
    "    .joinpath(\"src/repo_map/__main__.py\")\n",
    ").replace(\"\\\\\", \"/\")"
   ]
  },
  {
   "cell_type": "code",
   "execution_count": null,
   "metadata": {},
   "outputs": [],
   "source": [
    "import sys\n",
    "import subprocess\n",
    "\n"
   ]
  }
 ],
 "metadata": {
  "kernelspec": {
   "display_name": "repo_map",
   "language": "python",
   "name": "python3"
  },
  "language_info": {
   "codemirror_mode": {
    "name": "ipython",
    "version": 3
   },
   "file_extension": ".py",
   "mimetype": "text/x-python",
   "name": "python",
   "nbconvert_exporter": "python",
   "pygments_lexer": "ipython3",
   "version": "3.11.11"
  }
 },
 "nbformat": 4,
 "nbformat_minor": 2
}
